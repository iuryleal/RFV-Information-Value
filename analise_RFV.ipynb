{
 "cells": [
  {
   "cell_type": "markdown",
   "id": "8e2a8cf5-b509-4d87-8105-47fb6f09719a",
   "metadata": {},
   "source": [
    "# Extração de dados"
   ]
  },
  {
   "cell_type": "code",
   "execution_count": 1,
   "id": "ec5b0767-357d-4f16-99c7-97ca048f58dc",
   "metadata": {},
   "outputs": [
    {
     "name": "stdout",
     "output_type": "stream",
     "text": [
      "Requirement already satisfied: pyodbc in c:\\users\\55839\\appdata\\local\\programs\\python\\python312\\lib\\site-packages (5.1.0)\n",
      "Note: you may need to restart the kernel to use updated packages.\n"
     ]
    }
   ],
   "source": [
    "pip install pyodbc"
   ]
  },
  {
   "cell_type": "code",
   "execution_count": 2,
   "id": "e22d3f56-3b95-4745-a453-331b9b9160b3",
   "metadata": {},
   "outputs": [
    {
     "name": "stderr",
     "output_type": "stream",
     "text": [
      "C:\\Users\\55839\\AppData\\Local\\Temp\\ipykernel_15460\\680490118.py:1: DeprecationWarning: \n",
      "Pyarrow will become a required dependency of pandas in the next major release of pandas (pandas 3.0),\n",
      "(to allow more performant data types, such as the Arrow string type, and better interoperability with other libraries)\n",
      "but was not found to be installed on your system.\n",
      "If this would cause problems for you,\n",
      "please provide us feedback at https://github.com/pandas-dev/pandas/issues/54466\n",
      "        \n",
      "  import pandas as pd\n"
     ]
    }
   ],
   "source": [
    "import pandas as pd\n",
    "import pyodbc\n",
    "import seaborn as sns\n",
    "import matplotlib.pyplot as plt\n",
    "import numpy as np"
   ]
  },
  {
   "cell_type": "code",
   "execution_count": 3,
   "id": "a3bd168f-df43-47c5-81a3-3d2fc9a2aac8",
   "metadata": {},
   "outputs": [],
   "source": [
    "dados_conexao = (\n",
    "    \"Driver={SQL Server};\"\n",
    "    \"Server=DESKTOP-GIUN6BQ;\"\n",
    "    \"Database=MestreElectronics;\"\n",
    ")"
   ]
  },
  {
   "cell_type": "code",
   "execution_count": 4,
   "id": "2ce3be61-ba0e-4f1b-8c45-b86c5cdef83a",
   "metadata": {},
   "outputs": [
    {
     "name": "stdout",
     "output_type": "stream",
     "text": [
      "Conexao bem sucedida\n"
     ]
    }
   ],
   "source": [
    "conexao = pyodbc.connect(dados_conexao)\n",
    "print(\"Conexao bem sucedida\")"
   ]
  },
  {
   "cell_type": "code",
   "execution_count": 5,
   "id": "db87f28c-6fd6-42ef-8af2-cb81bc5b1842",
   "metadata": {},
   "outputs": [],
   "source": [
    "comando = \"\"\"SELECT\n",
    "CustomerKey as id_cliente,\n",
    "CONCAT(FirstName, ' ', LastName) as nome_cliente,\n",
    "FORMAT(BirthDate, 'dd/MM/yyyy') AS data_nascimento,\n",
    "MaritalStatus AS estado_civil,\n",
    "Gender AS sexo,\n",
    "Education AS escolaridade,\n",
    "Occupation AS profissao\n",
    "FROM dbo.Customer\n",
    "WHERE CustomerType = 'Person'\n",
    "\"\"\""
   ]
  },
  {
   "cell_type": "code",
   "execution_count": 6,
   "id": "4eb8ee54-aaaa-440b-90f4-1c80716bdffc",
   "metadata": {},
   "outputs": [
    {
     "name": "stderr",
     "output_type": "stream",
     "text": [
      "C:\\Users\\55839\\AppData\\Local\\Temp\\ipykernel_15460\\1509274099.py:1: UserWarning: pandas only supports SQLAlchemy connectable (engine/connection) or database string URI or sqlite3 DBAPI2 connection. Other DBAPI2 objects are not tested. Please consider using SQLAlchemy.\n",
      "  dclientes = pd.read_sql_query(comando, conexao)\n"
     ]
    }
   ],
   "source": [
    "dclientes = pd.read_sql_query(comando, conexao)"
   ]
  },
  {
   "cell_type": "code",
   "execution_count": 7,
   "id": "da4a0311-c242-42de-b3c2-b9a6ae7e347d",
   "metadata": {},
   "outputs": [],
   "source": [
    "comando2 = \"\"\"SELECT\n",
    "a.CustomerKey AS id_cliente,\n",
    "b.OnlineSalesKey AS id_venda,\n",
    "b.DateOrder AS data_pedido,\n",
    "b.DateShip AS data_entrega,\n",
    "b.UnitPrice AS preco_unitario,\n",
    "b.DiscountAmount AS desconto,\n",
    "b.SalesAmount AS faturamento\n",
    "FROM dbo.Customer a\n",
    "JOIN dbo.OnlineSales b ON a.CustomerKey = b.CustomerKey\n",
    "AND a.CustomerType <> 'Company'\n",
    "\"\"\""
   ]
  },
  {
   "cell_type": "code",
   "execution_count": 8,
   "id": "cd394168-8e1e-4535-97f7-2886b9d490e1",
   "metadata": {},
   "outputs": [
    {
     "name": "stderr",
     "output_type": "stream",
     "text": [
      "C:\\Users\\55839\\AppData\\Local\\Temp\\ipykernel_15460\\3134098129.py:1: UserWarning: pandas only supports SQLAlchemy connectable (engine/connection) or database string URI or sqlite3 DBAPI2 connection. Other DBAPI2 objects are not tested. Please consider using SQLAlchemy.\n",
      "  fVendas = pd.read_sql_query(comando2, conexao)\n"
     ]
    }
   ],
   "source": [
    "fVendas = pd.read_sql_query(comando2, conexao)"
   ]
  },
  {
   "cell_type": "code",
   "execution_count": 9,
   "id": "85934790-2b9a-42a3-8763-7b65ff855c3b",
   "metadata": {},
   "outputs": [],
   "source": [
    "conexao.close()"
   ]
  },
  {
   "cell_type": "markdown",
   "id": "bf01edf6-ae97-4a7f-a52d-fd0302927def",
   "metadata": {},
   "source": [
    "# fVendas"
   ]
  },
  {
   "cell_type": "code",
   "execution_count": 10,
   "id": "52d080fe-4154-4419-917a-ab66ccc8b622",
   "metadata": {},
   "outputs": [
    {
     "data": {
      "text/html": [
       "<div>\n",
       "<style scoped>\n",
       "    .dataframe tbody tr th:only-of-type {\n",
       "        vertical-align: middle;\n",
       "    }\n",
       "\n",
       "    .dataframe tbody tr th {\n",
       "        vertical-align: top;\n",
       "    }\n",
       "\n",
       "    .dataframe thead th {\n",
       "        text-align: right;\n",
       "    }\n",
       "</style>\n",
       "<table border=\"1\" class=\"dataframe\">\n",
       "  <thead>\n",
       "    <tr style=\"text-align: right;\">\n",
       "      <th></th>\n",
       "      <th>id_cliente</th>\n",
       "      <th>id_venda</th>\n",
       "      <th>data_pedido</th>\n",
       "      <th>data_entrega</th>\n",
       "      <th>preco_unitario</th>\n",
       "      <th>desconto</th>\n",
       "      <th>faturamento</th>\n",
       "    </tr>\n",
       "  </thead>\n",
       "  <tbody>\n",
       "    <tr>\n",
       "      <th>0</th>\n",
       "      <td>3089</td>\n",
       "      <td>20832</td>\n",
       "      <td>2017-07-09</td>\n",
       "      <td>2017-07-22</td>\n",
       "      <td>59.99</td>\n",
       "      <td>6.00</td>\n",
       "      <td>53.99</td>\n",
       "    </tr>\n",
       "    <tr>\n",
       "      <th>1</th>\n",
       "      <td>12378</td>\n",
       "      <td>20836</td>\n",
       "      <td>2017-07-09</td>\n",
       "      <td>2017-07-21</td>\n",
       "      <td>25.69</td>\n",
       "      <td>2.57</td>\n",
       "      <td>23.12</td>\n",
       "    </tr>\n",
       "    <tr>\n",
       "      <th>2</th>\n",
       "      <td>11137</td>\n",
       "      <td>20839</td>\n",
       "      <td>2017-07-09</td>\n",
       "      <td>2017-07-20</td>\n",
       "      <td>25.69</td>\n",
       "      <td>2.57</td>\n",
       "      <td>23.12</td>\n",
       "    </tr>\n",
       "    <tr>\n",
       "      <th>3</th>\n",
       "      <td>16567</td>\n",
       "      <td>20840</td>\n",
       "      <td>2017-07-09</td>\n",
       "      <td>2017-07-20</td>\n",
       "      <td>25.69</td>\n",
       "      <td>2.57</td>\n",
       "      <td>23.12</td>\n",
       "    </tr>\n",
       "    <tr>\n",
       "      <th>4</th>\n",
       "      <td>13837</td>\n",
       "      <td>20841</td>\n",
       "      <td>2017-07-09</td>\n",
       "      <td>2017-07-20</td>\n",
       "      <td>59.99</td>\n",
       "      <td>0.00</td>\n",
       "      <td>59.99</td>\n",
       "    </tr>\n",
       "    <tr>\n",
       "      <th>...</th>\n",
       "      <td>...</td>\n",
       "      <td>...</td>\n",
       "      <td>...</td>\n",
       "      <td>...</td>\n",
       "      <td>...</td>\n",
       "      <td>...</td>\n",
       "      <td>...</td>\n",
       "    </tr>\n",
       "    <tr>\n",
       "      <th>18016</th>\n",
       "      <td>630</td>\n",
       "      <td>37415</td>\n",
       "      <td>2017-12-14</td>\n",
       "      <td>2017-12-18</td>\n",
       "      <td>25.69</td>\n",
       "      <td>5.14</td>\n",
       "      <td>20.55</td>\n",
       "    </tr>\n",
       "    <tr>\n",
       "      <th>18017</th>\n",
       "      <td>630</td>\n",
       "      <td>37416</td>\n",
       "      <td>2017-12-14</td>\n",
       "      <td>2017-12-18</td>\n",
       "      <td>59.99</td>\n",
       "      <td>12.00</td>\n",
       "      <td>47.99</td>\n",
       "    </tr>\n",
       "    <tr>\n",
       "      <th>18018</th>\n",
       "      <td>11980</td>\n",
       "      <td>37417</td>\n",
       "      <td>2017-12-14</td>\n",
       "      <td>2017-12-18</td>\n",
       "      <td>59.99</td>\n",
       "      <td>12.00</td>\n",
       "      <td>47.99</td>\n",
       "    </tr>\n",
       "    <tr>\n",
       "      <th>18019</th>\n",
       "      <td>4440</td>\n",
       "      <td>37418</td>\n",
       "      <td>2017-12-14</td>\n",
       "      <td>2017-12-18</td>\n",
       "      <td>25.69</td>\n",
       "      <td>3.85</td>\n",
       "      <td>21.84</td>\n",
       "    </tr>\n",
       "    <tr>\n",
       "      <th>18020</th>\n",
       "      <td>269</td>\n",
       "      <td>37422</td>\n",
       "      <td>2017-12-15</td>\n",
       "      <td>2017-12-28</td>\n",
       "      <td>59.99</td>\n",
       "      <td>12.00</td>\n",
       "      <td>47.99</td>\n",
       "    </tr>\n",
       "  </tbody>\n",
       "</table>\n",
       "<p>18021 rows × 7 columns</p>\n",
       "</div>"
      ],
      "text/plain": [
       "       id_cliente  id_venda data_pedido data_entrega  preco_unitario  \\\n",
       "0            3089     20832  2017-07-09   2017-07-22           59.99   \n",
       "1           12378     20836  2017-07-09   2017-07-21           25.69   \n",
       "2           11137     20839  2017-07-09   2017-07-20           25.69   \n",
       "3           16567     20840  2017-07-09   2017-07-20           25.69   \n",
       "4           13837     20841  2017-07-09   2017-07-20           59.99   \n",
       "...           ...       ...         ...          ...             ...   \n",
       "18016         630     37415  2017-12-14   2017-12-18           25.69   \n",
       "18017         630     37416  2017-12-14   2017-12-18           59.99   \n",
       "18018       11980     37417  2017-12-14   2017-12-18           59.99   \n",
       "18019        4440     37418  2017-12-14   2017-12-18           25.69   \n",
       "18020         269     37422  2017-12-15   2017-12-28           59.99   \n",
       "\n",
       "       desconto  faturamento  \n",
       "0          6.00        53.99  \n",
       "1          2.57        23.12  \n",
       "2          2.57        23.12  \n",
       "3          2.57        23.12  \n",
       "4          0.00        59.99  \n",
       "...         ...          ...  \n",
       "18016      5.14        20.55  \n",
       "18017     12.00        47.99  \n",
       "18018     12.00        47.99  \n",
       "18019      3.85        21.84  \n",
       "18020     12.00        47.99  \n",
       "\n",
       "[18021 rows x 7 columns]"
      ]
     },
     "execution_count": 10,
     "metadata": {},
     "output_type": "execute_result"
    }
   ],
   "source": [
    "fVendas"
   ]
  },
  {
   "cell_type": "markdown",
   "id": "9da279c9-6bc4-478f-81e0-98ef65dc42d3",
   "metadata": {},
   "source": [
    "### Verificando valores nulos (fVendas)"
   ]
  },
  {
   "cell_type": "code",
   "execution_count": 11,
   "id": "1866cdf4-4b86-4a14-b284-45c1b3cafc05",
   "metadata": {},
   "outputs": [
    {
     "data": {
      "text/plain": [
       "id_cliente        0\n",
       "id_venda          0\n",
       "data_pedido       0\n",
       "data_entrega      0\n",
       "preco_unitario    0\n",
       "desconto          0\n",
       "faturamento       0\n",
       "dtype: int64"
      ]
     },
     "execution_count": 11,
     "metadata": {},
     "output_type": "execute_result"
    }
   ],
   "source": [
    "fVendas.isna().sum()"
   ]
  },
  {
   "cell_type": "markdown",
   "id": "50fc5149-91c1-43bb-994c-e24233c501c3",
   "metadata": {},
   "source": [
    "### Verificando valores duplicados (fVendas)"
   ]
  },
  {
   "cell_type": "code",
   "execution_count": 12,
   "id": "15cd4f4d-41b9-4764-86fc-3ddd494126ed",
   "metadata": {},
   "outputs": [
    {
     "data": {
      "text/plain": [
       "0"
      ]
     },
     "execution_count": 12,
     "metadata": {},
     "output_type": "execute_result"
    }
   ],
   "source": [
    "fVendas.duplicated().sum()"
   ]
  },
  {
   "cell_type": "markdown",
   "id": "c3b006c7-b0cf-4ee7-9a65-d05e3702416e",
   "metadata": {},
   "source": [
    "### Verificando tipos de dados das variáveis (fVendas)"
   ]
  },
  {
   "cell_type": "code",
   "execution_count": 13,
   "id": "83eb8900-859f-48a4-9c2a-ff9ec36d8901",
   "metadata": {},
   "outputs": [
    {
     "name": "stdout",
     "output_type": "stream",
     "text": [
      "<class 'pandas.core.frame.DataFrame'>\n",
      "RangeIndex: 18021 entries, 0 to 18020\n",
      "Data columns (total 7 columns):\n",
      " #   Column          Non-Null Count  Dtype         \n",
      "---  ------          --------------  -----         \n",
      " 0   id_cliente      18021 non-null  int64         \n",
      " 1   id_venda        18021 non-null  int64         \n",
      " 2   data_pedido     18021 non-null  datetime64[ns]\n",
      " 3   data_entrega    18021 non-null  datetime64[ns]\n",
      " 4   preco_unitario  18021 non-null  float64       \n",
      " 5   desconto        18021 non-null  float64       \n",
      " 6   faturamento     18021 non-null  float64       \n",
      "dtypes: datetime64[ns](2), float64(3), int64(2)\n",
      "memory usage: 985.7 KB\n"
     ]
    }
   ],
   "source": [
    "fVendas.info()"
   ]
  },
  {
   "cell_type": "markdown",
   "id": "1ac5a82d-2d90-44da-9315-962900401cee",
   "metadata": {},
   "source": [
    "## Análise Univariada - Variável Quantitativa (fVendas)"
   ]
  },
  {
   "cell_type": "markdown",
   "id": "63ccfede-463b-4b0d-951e-ad43de8d90a4",
   "metadata": {},
   "source": [
    "### Medidas resumo de variáveis quantitativas (fVendas)"
   ]
  },
  {
   "cell_type": "code",
   "execution_count": 14,
   "id": "cf07e3c1-4849-404c-a0c8-d4f3c7cb9f2e",
   "metadata": {},
   "outputs": [],
   "source": [
    "fVendas_resumo = fVendas.loc[:,[\"id_cliente\", \"id_venda\", \"preco_unitario\", \"desconto\", \"faturamento\"]]"
   ]
  },
  {
   "cell_type": "code",
   "execution_count": 15,
   "id": "f44bd0de-9aeb-441f-b611-6958892e6861",
   "metadata": {},
   "outputs": [
    {
     "data": {
      "text/html": [
       "<div>\n",
       "<style scoped>\n",
       "    .dataframe tbody tr th:only-of-type {\n",
       "        vertical-align: middle;\n",
       "    }\n",
       "\n",
       "    .dataframe tbody tr th {\n",
       "        vertical-align: top;\n",
       "    }\n",
       "\n",
       "    .dataframe thead th {\n",
       "        text-align: right;\n",
       "    }\n",
       "</style>\n",
       "<table border=\"1\" class=\"dataframe\">\n",
       "  <thead>\n",
       "    <tr style=\"text-align: right;\">\n",
       "      <th></th>\n",
       "      <th>id_cliente</th>\n",
       "      <th>id_venda</th>\n",
       "      <th>preco_unitario</th>\n",
       "      <th>desconto</th>\n",
       "      <th>faturamento</th>\n",
       "    </tr>\n",
       "  </thead>\n",
       "  <tbody>\n",
       "    <tr>\n",
       "      <th>count</th>\n",
       "      <td>18021.000000</td>\n",
       "      <td>18021.000000</td>\n",
       "      <td>18021.000000</td>\n",
       "      <td>18021.000000</td>\n",
       "      <td>18021.000000</td>\n",
       "    </tr>\n",
       "    <tr>\n",
       "      <th>mean</th>\n",
       "      <td>8912.923367</td>\n",
       "      <td>16370.835858</td>\n",
       "      <td>36.255960</td>\n",
       "      <td>3.067136</td>\n",
       "      <td>33.188870</td>\n",
       "    </tr>\n",
       "    <tr>\n",
       "      <th>std</th>\n",
       "      <td>5375.732074</td>\n",
       "      <td>11239.284162</td>\n",
       "      <td>25.754155</td>\n",
       "      <td>4.262854</td>\n",
       "      <td>23.261901</td>\n",
       "    </tr>\n",
       "    <tr>\n",
       "      <th>min</th>\n",
       "      <td>6.000000</td>\n",
       "      <td>126.000000</td>\n",
       "      <td>25.690000</td>\n",
       "      <td>0.000000</td>\n",
       "      <td>20.550000</td>\n",
       "    </tr>\n",
       "    <tr>\n",
       "      <th>25%</th>\n",
       "      <td>4181.000000</td>\n",
       "      <td>6771.000000</td>\n",
       "      <td>25.690000</td>\n",
       "      <td>0.000000</td>\n",
       "      <td>23.120000</td>\n",
       "    </tr>\n",
       "    <tr>\n",
       "      <th>50%</th>\n",
       "      <td>8751.000000</td>\n",
       "      <td>14270.000000</td>\n",
       "      <td>25.690000</td>\n",
       "      <td>2.570000</td>\n",
       "      <td>24.410000</td>\n",
       "    </tr>\n",
       "    <tr>\n",
       "      <th>75%</th>\n",
       "      <td>13570.000000</td>\n",
       "      <td>25242.000000</td>\n",
       "      <td>59.990000</td>\n",
       "      <td>5.140000</td>\n",
       "      <td>47.990000</td>\n",
       "    </tr>\n",
       "    <tr>\n",
       "      <th>max</th>\n",
       "      <td>18481.000000</td>\n",
       "      <td>39551.000000</td>\n",
       "      <td>469.970000</td>\n",
       "      <td>93.990000</td>\n",
       "      <td>446.470000</td>\n",
       "    </tr>\n",
       "  </tbody>\n",
       "</table>\n",
       "</div>"
      ],
      "text/plain": [
       "         id_cliente      id_venda  preco_unitario      desconto   faturamento\n",
       "count  18021.000000  18021.000000    18021.000000  18021.000000  18021.000000\n",
       "mean    8912.923367  16370.835858       36.255960      3.067136     33.188870\n",
       "std     5375.732074  11239.284162       25.754155      4.262854     23.261901\n",
       "min        6.000000    126.000000       25.690000      0.000000     20.550000\n",
       "25%     4181.000000   6771.000000       25.690000      0.000000     23.120000\n",
       "50%     8751.000000  14270.000000       25.690000      2.570000     24.410000\n",
       "75%    13570.000000  25242.000000       59.990000      5.140000     47.990000\n",
       "max    18481.000000  39551.000000      469.970000     93.990000    446.470000"
      ]
     },
     "execution_count": 15,
     "metadata": {},
     "output_type": "execute_result"
    }
   ],
   "source": [
    "fVendas_resumo.describe()"
   ]
  },
  {
   "cell_type": "markdown",
   "id": "2a36cff8-e783-4653-ad47-3c3be0d27b3d",
   "metadata": {},
   "source": [
    "### Variável preco_unitario (fVendas)"
   ]
  },
  {
   "cell_type": "code",
   "execution_count": 16,
   "id": "c73c2152-9d63-4955-a1e2-f41dfcbcb1b3",
   "metadata": {},
   "outputs": [
    {
     "data": {
      "image/png": "[encoded data removed]",
      "text/plain": [
       "<Figure size 640x480 with 1 Axes>"
      ]
     },
     "metadata": {},
     "output_type": "display_data"
    }
   ],
   "source": [
    "sns.boxplot(\n",
    "    fVendas[\"preco_unitario\"]\n",
    ")\n",
    "\n",
    "plt.title(\"Boxplot da variável: Preço Unitário\", fontdict={\"weight\":\"bold\"})\n",
    "\n",
    "plt.show()"
   ]
  },
  {
   "cell_type": "markdown",
   "id": "e9cd3d94-b26a-4d28-a9ed-9b48110b64f1",
   "metadata": {},
   "source": [
    "### Variável desconto (fVendas)"
   ]
  },
  {
   "cell_type": "code",
   "execution_count": 17,
   "id": "eb79642c-744b-4152-8114-2dc1cbce880d",
   "metadata": {},
   "outputs": [
    {
     "data": {
      "image/png": "[encoded data removed]",
      "text/plain": [
       "<Figure size 640x480 with 1 Axes>"
      ]
     },
     "metadata": {},
     "output_type": "display_data"
    }
   ],
   "source": [
    "sns.boxplot(\n",
    "    fVendas[\"desconto\"]\n",
    ")\n",
    "\n",
    "plt.title(\"Boxplot da variável: Desconto\", fontdict={\"weight\":\"bold\"})\n",
    "\n",
    "plt.show()"
   ]
  },
  {
   "cell_type": "markdown",
   "id": "b39e2822-409c-4779-bfd1-47531ea157de",
   "metadata": {},
   "source": [
    "### Variável: faturamento (fVendas)"
   ]
  },
  {
   "cell_type": "code",
   "execution_count": 18,
   "id": "df7c7eb6-1fb3-4fc0-88cc-0cdeff06cebc",
   "metadata": {},
   "outputs": [
    {
     "data": {
      "image/png": "[encoded data removed]",
      "text/plain": [
       "<Figure size 640x480 with 1 Axes>"
      ]
     },
     "metadata": {},
     "output_type": "display_data"
    }
   ],
   "source": [
    "sns.boxplot(\n",
    "    fVendas[\"faturamento\"]\n",
    ")\n",
    "\n",
    "plt.title(\"Boxplot da variável: Faturamento\", fontdict={\"weight\":\"bold\"})\n",
    "\n",
    "plt.show()"
   ]
  },
  {
   "cell_type": "markdown",
   "id": "5f6c0eb2-715c-4ae0-a0e0-f22dff08dbef",
   "metadata": {},
   "source": [
    "# dCliente"
   ]
  },
  {
   "cell_type": "markdown",
   "id": "a39e75c1-afb7-4176-971f-ba580fcba9ee",
   "metadata": {},
   "source": [
    "### Feature engineering (dCliente)"
   ]
  },
  {
   "cell_type": "markdown",
   "id": "dc242453-3c45-4cd5-a892-a9396156dc67",
   "metadata": {},
   "source": [
    "Variável Idade"
   ]
  },
  {
   "cell_type": "code",
   "execution_count": 19,
   "id": "94f2e6ee-cbbe-47fb-9d6f-beeb35f07a7c",
   "metadata": {},
   "outputs": [],
   "source": [
    "from datetime import datetime"
   ]
  },
  {
   "cell_type": "code",
   "execution_count": 20,
   "id": "32c1695a-6f5e-4fa4-b28d-219630a49480",
   "metadata": {},
   "outputs": [],
   "source": [
    "hoje = datetime.now()"
   ]
  },
  {
   "cell_type": "code",
   "execution_count": 21,
   "id": "0edf90d3-d809-48a4-aee1-62c2b2a8e775",
   "metadata": {},
   "outputs": [],
   "source": [
    "dclientes[\"data_nascimento\"] = dclientes[\"data_nascimento\"].astype(\"datetime64[ns]\")"
   ]
  },
  {
   "cell_type": "code",
   "execution_count": 22,
   "id": "00f096cb-54c1-470f-9202-0be4033108d4",
   "metadata": {},
   "outputs": [],
   "source": [
    "dclientes[\"idade\"] = np.floor((hoje - dclientes[\"data_nascimento\"]).dt.days / 365)"
   ]
  },
  {
   "cell_type": "markdown",
   "id": "9be309d8-8353-4a4a-88e5-cf6ce6f41505",
   "metadata": {},
   "source": [
    "Variável: Faixa Etária"
   ]
  },
  {
   "cell_type": "code",
   "execution_count": 23,
   "id": "2d40c226-b12d-434a-9c75-697c3f9a7a4d",
   "metadata": {},
   "outputs": [],
   "source": [
    "bins = [42, 47, 52, 57, 62, 67, 72, 77, 82, 87, 92, 97, 102, 107, 112, 118]\n",
    "labels = [\n",
    "    \"43-47\",\n",
    "    \"48-52\",\n",
    "    \"53-57\",\n",
    "    \"58-62\",\n",
    "    \"63-67\",\n",
    "    \"68-72\",\n",
    "    \"73-77\",\n",
    "    \"78-82\",\n",
    "    \"83-87\",\n",
    "    \"88-92\",\n",
    "    \"93-97\",\n",
    "    \"98-102\",\n",
    "    \"103-107\",\n",
    "    \"108-112\",\n",
    "    \"113-117\"\n",
    "]"
   ]
  },
  {
   "cell_type": "code",
   "execution_count": 24,
   "id": "bc7fe165-b700-4cc0-9a9c-06154f492f37",
   "metadata": {},
   "outputs": [],
   "source": [
    "dclientes[\"faixa_etaria\"] = pd.cut(\n",
    "    dclientes[\"idade\"],\n",
    "    bins=bins,\n",
    "    labels=labels,\n",
    "    right=True\n",
    ")"
   ]
  },
  {
   "cell_type": "markdown",
   "id": "f27059e9-4241-4c57-8224-83b11c210983",
   "metadata": {},
   "source": [
    "### Verificando valores nulos (dCliente)"
   ]
  },
  {
   "cell_type": "code",
   "execution_count": 25,
   "id": "3b1b8436-0bcd-42f4-96ec-3ba02967c61f",
   "metadata": {},
   "outputs": [
    {
     "data": {
      "text/plain": [
       "id_cliente         0\n",
       "nome_cliente       0\n",
       "data_nascimento    0\n",
       "estado_civil       0\n",
       "sexo               0\n",
       "escolaridade       0\n",
       "profissao          0\n",
       "idade              0\n",
       "faixa_etaria       0\n",
       "dtype: int64"
      ]
     },
     "execution_count": 25,
     "metadata": {},
     "output_type": "execute_result"
    }
   ],
   "source": [
    "dclientes.isna().sum()"
   ]
  },
  {
   "cell_type": "markdown",
   "id": "9b6ae7f8-0ce7-42dd-b172-e3c640b32401",
   "metadata": {},
   "source": [
    "### Verificando valores duplicados (dCliente)"
   ]
  },
  {
   "cell_type": "code",
   "execution_count": 26,
   "id": "968fff3a-9a1c-4730-a7c1-19421e725ea9",
   "metadata": {},
   "outputs": [
    {
     "data": {
      "text/plain": [
       "0"
      ]
     },
     "execution_count": 26,
     "metadata": {},
     "output_type": "execute_result"
    }
   ],
   "source": [
    "dclientes.duplicated().sum()"
   ]
  },
  {
   "cell_type": "markdown",
   "id": "2080ac5a-7a66-4aed-af55-7bd28e909feb",
   "metadata": {},
   "source": [
    "### Verificando tipos de dados (dCliente)"
   ]
  },
  {
   "cell_type": "code",
   "execution_count": 27,
   "id": "48964f9a-5c6f-4189-bde6-2efeeb3347b1",
   "metadata": {},
   "outputs": [
    {
     "name": "stdout",
     "output_type": "stream",
     "text": [
      "<class 'pandas.core.frame.DataFrame'>\n",
      "RangeIndex: 18484 entries, 0 to 18483\n",
      "Data columns (total 9 columns):\n",
      " #   Column           Non-Null Count  Dtype         \n",
      "---  ------           --------------  -----         \n",
      " 0   id_cliente       18484 non-null  int64         \n",
      " 1   nome_cliente     18484 non-null  object        \n",
      " 2   data_nascimento  18484 non-null  datetime64[ns]\n",
      " 3   estado_civil     18484 non-null  object        \n",
      " 4   sexo             18484 non-null  object        \n",
      " 5   escolaridade     18484 non-null  object        \n",
      " 6   profissao        18484 non-null  object        \n",
      " 7   idade            18484 non-null  float64       \n",
      " 8   faixa_etaria     18484 non-null  category      \n",
      "dtypes: category(1), datetime64[ns](1), float64(1), int64(1), object(5)\n",
      "memory usage: 1.1+ MB\n"
     ]
    }
   ],
   "source": [
    "dclientes.info()"
   ]
  },
  {
   "cell_type": "markdown",
   "id": "849da8c3-e3da-442f-a66b-a0e3eb755120",
   "metadata": {},
   "source": [
    "### Medidas resumo de variáveis quantitativas (dCliente)"
   ]
  },
  {
   "cell_type": "code",
   "execution_count": 28,
   "id": "4fc8c9c1-8f39-46ad-b4a3-1436775ae7fb",
   "metadata": {},
   "outputs": [],
   "source": [
    "resumo_clientes = dclientes.loc[:, [\"id_cliente\", \"idade\"]]"
   ]
  },
  {
   "cell_type": "code",
   "execution_count": 29,
   "id": "b5d7c764-5b3e-44ce-bf13-17f5d7df5b62",
   "metadata": {},
   "outputs": [
    {
     "data": {
      "text/html": [
       "<div>\n",
       "<style scoped>\n",
       "    .dataframe tbody tr th:only-of-type {\n",
       "        vertical-align: middle;\n",
       "    }\n",
       "\n",
       "    .dataframe tbody tr th {\n",
       "        vertical-align: top;\n",
       "    }\n",
       "\n",
       "    .dataframe thead th {\n",
       "        text-align: right;\n",
       "    }\n",
       "</style>\n",
       "<table border=\"1\" class=\"dataframe\">\n",
       "  <thead>\n",
       "    <tr style=\"text-align: right;\">\n",
       "      <th></th>\n",
       "      <th>id_cliente</th>\n",
       "      <th>idade</th>\n",
       "    </tr>\n",
       "  </thead>\n",
       "  <tbody>\n",
       "    <tr>\n",
       "      <th>count</th>\n",
       "      <td>18484.000000</td>\n",
       "      <td>18484.000000</td>\n",
       "    </tr>\n",
       "    <tr>\n",
       "      <th>mean</th>\n",
       "      <td>9242.500000</td>\n",
       "      <td>61.807780</td>\n",
       "    </tr>\n",
       "    <tr>\n",
       "      <th>std</th>\n",
       "      <td>5336.015523</td>\n",
       "      <td>11.269041</td>\n",
       "    </tr>\n",
       "    <tr>\n",
       "      <th>min</th>\n",
       "      <td>1.000000</td>\n",
       "      <td>43.000000</td>\n",
       "    </tr>\n",
       "    <tr>\n",
       "      <th>25%</th>\n",
       "      <td>4621.750000</td>\n",
       "      <td>53.000000</td>\n",
       "    </tr>\n",
       "    <tr>\n",
       "      <th>50%</th>\n",
       "      <td>9242.500000</td>\n",
       "      <td>60.000000</td>\n",
       "    </tr>\n",
       "    <tr>\n",
       "      <th>75%</th>\n",
       "      <td>13863.250000</td>\n",
       "      <td>69.000000</td>\n",
       "    </tr>\n",
       "    <tr>\n",
       "      <th>max</th>\n",
       "      <td>18484.000000</td>\n",
       "      <td>113.000000</td>\n",
       "    </tr>\n",
       "  </tbody>\n",
       "</table>\n",
       "</div>"
      ],
      "text/plain": [
       "         id_cliente         idade\n",
       "count  18484.000000  18484.000000\n",
       "mean    9242.500000     61.807780\n",
       "std     5336.015523     11.269041\n",
       "min        1.000000     43.000000\n",
       "25%     4621.750000     53.000000\n",
       "50%     9242.500000     60.000000\n",
       "75%    13863.250000     69.000000\n",
       "max    18484.000000    113.000000"
      ]
     },
     "execution_count": 29,
     "metadata": {},
     "output_type": "execute_result"
    }
   ],
   "source": [
    "resumo_clientes.describe()"
   ]
  },
  {
   "cell_type": "markdown",
   "id": "1ba4b82d-86d5-4832-9f7f-5e74075fd7b1",
   "metadata": {},
   "source": [
    "# Análise Univarida - Variáveis Numéricas (dCliente)"
   ]
  },
  {
   "cell_type": "markdown",
   "id": "fe8d383c-d301-447e-b90e-f75678320a8b",
   "metadata": {},
   "source": [
    "## Variável: Idade"
   ]
  },
  {
   "cell_type": "code",
   "execution_count": 30,
   "id": "3698a21f-bd46-4f47-b1b2-604a44c1121f",
   "metadata": {},
   "outputs": [
    {
     "data": {
      "image/png": "[encoded data removed]",
      "text/plain": [
       "<Figure size 640x480 with 1 Axes>"
      ]
     },
     "metadata": {},
     "output_type": "display_data"
    }
   ],
   "source": [
    "sns.boxplot(\n",
    "    dclientes[\"idade\"]\n",
    ")\n",
    "\n",
    "plt.title(\"Boxplot da variável: Idade\", fontdict={\"weight\":\"bold\"})\n",
    "\n",
    "plt.show()"
   ]
  },
  {
   "cell_type": "markdown",
   "id": "8e874bff-c85f-4e57-991c-b5a70d943a61",
   "metadata": {},
   "source": [
    "# Análise Univarida - Variáveis Categóricas (dCliente)"
   ]
  },
  {
   "cell_type": "markdown",
   "id": "a4bd68e0-e294-4f2f-b4f7-a5d0a874e161",
   "metadata": {},
   "source": [
    "## Variável: Estado civil"
   ]
  },
  {
   "cell_type": "markdown",
   "id": "fa95dd0b-17bc-4bda-beee-7c1b0ad87264",
   "metadata": {},
   "source": [
    "Visualização de dados"
   ]
  },
  {
   "cell_type": "code",
   "execution_count": 31,
   "id": "4d1229c9-1637-4abc-8e42-cfb0f3715179",
   "metadata": {},
   "outputs": [
    {
     "data": {
      "text/plain": [
       "estado_civil\n",
       "M    10011\n",
       "S     8473\n",
       "Name: count, dtype: int64"
      ]
     },
     "execution_count": 31,
     "metadata": {},
     "output_type": "execute_result"
    }
   ],
   "source": [
    "dclientes[\"estado_civil\"].value_counts()"
   ]
  },
  {
   "cell_type": "code",
   "execution_count": 32,
   "id": "cfd7fb69-c32b-4e98-87e6-4202c0aef70f",
   "metadata": {},
   "outputs": [
    {
     "name": "stderr",
     "output_type": "stream",
     "text": [
      "C:\\Users\\55839\\AppData\\Local\\Temp\\ipykernel_15460\\1529931675.py:1: FutureWarning: Series.__getitem__ treating keys as positions is deprecated. In a future version, integer keys will always be treated as labels (consistent with DataFrame behavior). To access a value by position, use `ser.iloc[pos]`\n",
      "  married = dclientes[\"estado_civil\"].value_counts()[0]\n",
      "C:\\Users\\55839\\AppData\\Local\\Temp\\ipykernel_15460\\1529931675.py:2: FutureWarning: Series.__getitem__ treating keys as positions is deprecated. In a future version, integer keys will always be treated as labels (consistent with DataFrame behavior). To access a value by position, use `ser.iloc[pos]`\n",
      "  single = dclientes[\"estado_civil\"].value_counts()[1]\n"
     ]
    }
   ],
   "source": [
    "married = dclientes[\"estado_civil\"].value_counts()[0]\n",
    "single = dclientes[\"estado_civil\"].value_counts()[1]"
   ]
  },
  {
   "cell_type": "code",
   "execution_count": 33,
   "id": "6227201c-87b3-42b7-a1f0-7d985e799f48",
   "metadata": {},
   "outputs": [
    {
     "data": {
      "image/png": "[encoded data removed]",
      "text/plain": [
       "<Figure size 640x480 with 1 Axes>"
      ]
     },
     "metadata": {},
     "output_type": "display_data"
    }
   ],
   "source": [
    "plt.pie(\n",
    "    [married, single],\n",
    "    labels = [\"married\", \"single\"],\n",
    "    autopct= \"% .2f %%\"\n",
    ")\n",
    "\n",
    "plt.title(\"Proporção de clientes por estado civil\", fontdict={\"weight\":\"bold\"})\n",
    "\n",
    "plt.show()"
   ]
  },
  {
   "cell_type": "markdown",
   "id": "4ec13051-0531-42b3-a1f2-7cc39fe85f17",
   "metadata": {},
   "source": [
    "## Variável: Sexo"
   ]
  },
  {
   "cell_type": "markdown",
   "id": "0a1c36d1-0067-4bf0-a54c-6a7d582b1713",
   "metadata": {},
   "source": [
    "Visualização de dados"
   ]
  },
  {
   "cell_type": "code",
   "execution_count": 34,
   "id": "0e7301f7-edea-485d-af84-214a363f5e5f",
   "metadata": {},
   "outputs": [
    {
     "data": {
      "text/plain": [
       "sexo\n",
       "M    9351\n",
       "F    9133\n",
       "Name: count, dtype: int64"
      ]
     },
     "execution_count": 34,
     "metadata": {},
     "output_type": "execute_result"
    }
   ],
   "source": [
    "dclientes[\"sexo\"].value_counts()"
   ]
  },
  {
   "cell_type": "code",
   "execution_count": 35,
   "id": "f837c785-d7dd-4773-a60e-08b1dd3a14b9",
   "metadata": {},
   "outputs": [
    {
     "name": "stderr",
     "output_type": "stream",
     "text": [
      "C:\\Users\\55839\\AppData\\Local\\Temp\\ipykernel_15460\\3632692589.py:1: FutureWarning: Series.__getitem__ treating keys as positions is deprecated. In a future version, integer keys will always be treated as labels (consistent with DataFrame behavior). To access a value by position, use `ser.iloc[pos]`\n",
      "  male = dclientes[\"sexo\"].value_counts()[0]\n",
      "C:\\Users\\55839\\AppData\\Local\\Temp\\ipykernel_15460\\3632692589.py:2: FutureWarning: Series.__getitem__ treating keys as positions is deprecated. In a future version, integer keys will always be treated as labels (consistent with DataFrame behavior). To access a value by position, use `ser.iloc[pos]`\n",
      "  female = dclientes[\"sexo\"].value_counts()[1]\n"
     ]
    }
   ],
   "source": [
    "male = dclientes[\"sexo\"].value_counts()[0]\n",
    "female = dclientes[\"sexo\"].value_counts()[1]"
   ]
  },
  {
   "cell_type": "code",
   "execution_count": 36,
   "id": "6b4b3368-62b3-401a-ae6f-699ef4c61d03",
   "metadata": {},
   "outputs": [
    {
     "data": {
      "image/png": "[encoded data removed]",
      "text/plain": [
       "<Figure size 640x480 with 1 Axes>"
      ]
     },
     "metadata": {},
     "output_type": "display_data"
    }
   ],
   "source": [
    "plt.pie(\n",
    "    [male, female],\n",
    "    labels = [\"Male\", \"Female\"],\n",
    "    autopct = \"% .2f %%\"\n",
    ")\n",
    "\n",
    "plt.title(\"Proporção de clientes por sexo\", fontdict={\"weight\":\"bold\"})\n",
    "\n",
    "plt.show()"
   ]
  },
  {
   "cell_type": "markdown",
   "id": "74872eef-f775-4728-b1f4-2c5da8cfa962",
   "metadata": {},
   "source": [
    "## Variável: escolaridade"
   ]
  },
  {
   "cell_type": "markdown",
   "id": "f08e6a8d-b8a5-439f-a3d2-3bd268c83728",
   "metadata": {},
   "source": [
    "Tabela de frequência"
   ]
  },
  {
   "cell_type": "code",
   "execution_count": 37,
   "id": "dcc7365b-fd90-4007-bb15-b2c22d0f44b8",
   "metadata": {},
   "outputs": [],
   "source": [
    "ordem = [\"Partial High School\", \"High School\", \"Partial College\", \"Bachelors\", \"Graduate Degree\"]"
   ]
  },
  {
   "cell_type": "code",
   "execution_count": 38,
   "id": "fd538468-e4c1-4805-b3e0-414d27986965",
   "metadata": {},
   "outputs": [],
   "source": [
    "dclientes[\"escolaridade\"] = dclientes[\"escolaridade\"].astype(\"category\")"
   ]
  },
  {
   "cell_type": "code",
   "execution_count": 39,
   "id": "dff614db-134a-4fce-b8dc-d6c4a7abff88",
   "metadata": {},
   "outputs": [],
   "source": [
    "dclientes[\"escolaridade\"] = dclientes[\"escolaridade\"].cat.reorder_categories(ordem, ordered=True)"
   ]
  },
  {
   "cell_type": "code",
   "execution_count": 40,
   "id": "75b7d0bd-4788-47b7-99d4-0e64d56d85ad",
   "metadata": {},
   "outputs": [],
   "source": [
    "escolaridade = dclientes[\"escolaridade\"].value_counts().sort_index().to_frame(\"freq_absoluta\")"
   ]
  },
  {
   "cell_type": "code",
   "execution_count": 41,
   "id": "50fd2ae2-70d8-4e22-be37-27001c4dd5c8",
   "metadata": {},
   "outputs": [],
   "source": [
    "escolaridade[\"freq_relativa\"] = dclientes[\"escolaridade\"].value_counts(1).sort_index()"
   ]
  },
  {
   "cell_type": "code",
   "execution_count": 42,
   "id": "dc8d164a-aeae-4ef4-a22a-f86252e6f46e",
   "metadata": {},
   "outputs": [],
   "source": [
    "escolaridade[\"freq_acumulada\"] = escolaridade[\"freq_relativa\"].cumsum()"
   ]
  },
  {
   "cell_type": "code",
   "execution_count": 43,
   "id": "918ba3bf-afa5-4906-a6a1-f48c398e481f",
   "metadata": {},
   "outputs": [
    {
     "data": {
      "text/html": [
       "<div>\n",
       "<style scoped>\n",
       "    .dataframe tbody tr th:only-of-type {\n",
       "        vertical-align: middle;\n",
       "    }\n",
       "\n",
       "    .dataframe tbody tr th {\n",
       "        vertical-align: top;\n",
       "    }\n",
       "\n",
       "    .dataframe thead th {\n",
       "        text-align: right;\n",
       "    }\n",
       "</style>\n",
       "<table border=\"1\" class=\"dataframe\">\n",
       "  <thead>\n",
       "    <tr style=\"text-align: right;\">\n",
       "      <th></th>\n",
       "      <th>freq_absoluta</th>\n",
       "      <th>freq_relativa</th>\n",
       "      <th>freq_acumulada</th>\n",
       "    </tr>\n",
       "    <tr>\n",
       "      <th>escolaridade</th>\n",
       "      <th></th>\n",
       "      <th></th>\n",
       "      <th></th>\n",
       "    </tr>\n",
       "  </thead>\n",
       "  <tbody>\n",
       "    <tr>\n",
       "      <th>Partial High School</th>\n",
       "      <td>1581</td>\n",
       "      <td>0.085533</td>\n",
       "      <td>0.085533</td>\n",
       "    </tr>\n",
       "    <tr>\n",
       "      <th>High School</th>\n",
       "      <td>3294</td>\n",
       "      <td>0.178208</td>\n",
       "      <td>0.263742</td>\n",
       "    </tr>\n",
       "    <tr>\n",
       "      <th>Partial College</th>\n",
       "      <td>5064</td>\n",
       "      <td>0.273967</td>\n",
       "      <td>0.537708</td>\n",
       "    </tr>\n",
       "    <tr>\n",
       "      <th>Bachelors</th>\n",
       "      <td>5356</td>\n",
       "      <td>0.289764</td>\n",
       "      <td>0.827472</td>\n",
       "    </tr>\n",
       "    <tr>\n",
       "      <th>Graduate Degree</th>\n",
       "      <td>3189</td>\n",
       "      <td>0.172528</td>\n",
       "      <td>1.000000</td>\n",
       "    </tr>\n",
       "  </tbody>\n",
       "</table>\n",
       "</div>"
      ],
      "text/plain": [
       "                     freq_absoluta  freq_relativa  freq_acumulada\n",
       "escolaridade                                                     \n",
       "Partial High School           1581       0.085533        0.085533\n",
       "High School                   3294       0.178208        0.263742\n",
       "Partial College               5064       0.273967        0.537708\n",
       "Bachelors                     5356       0.289764        0.827472\n",
       "Graduate Degree               3189       0.172528        1.000000"
      ]
     },
     "execution_count": 43,
     "metadata": {},
     "output_type": "execute_result"
    }
   ],
   "source": [
    "escolaridade"
   ]
  },
  {
   "cell_type": "markdown",
   "id": "6244d159-e955-43f9-9ac7-fcc70dad7283",
   "metadata": {},
   "source": [
    "Visualização de dados"
   ]
  },
  {
   "cell_type": "code",
   "execution_count": 44,
   "id": "2cde0120-bc38-4655-bbda-c1d6829b518f",
   "metadata": {},
   "outputs": [
    {
     "data": {
      "image/png": "[encoded data removed]",
      "text/plain": [
       "<Figure size 1500x500 with 1 Axes>"
      ]
     },
     "metadata": {},
     "output_type": "display_data"
    }
   ],
   "source": [
    "plt.figure(figsize=(15,5))\n",
    "\n",
    "sns.barplot(\n",
    "    escolaridade,\n",
    "    x=escolaridade.index,\n",
    "    y=\"freq_absoluta\"\n",
    ")\n",
    "\n",
    "plt.title(\"Distribuição de clientes por escolaridade\", fontdict={\"weight\":\"bold\"})\n",
    "plt.ylabel(\"Qtd clientes\", fontdict={\"weight\":\"bold\"})\n",
    "plt.xlabel(\"Escolaridade\", fontdict={\"weight\":\"bold\"})\n",
    "\n",
    "for index, data in enumerate(escolaridade[\"freq_absoluta\"]):\n",
    "    plt.text(index, data+30, str(data), ha=\"center\", weight=\"bold\", size=9)\n",
    "\n",
    "plt.show()"
   ]
  },
  {
   "cell_type": "markdown",
   "id": "a1c0cf3b-fd34-4bd2-9414-20ea19f51b3f",
   "metadata": {},
   "source": [
    "## Variável: profissão"
   ]
  },
  {
   "cell_type": "markdown",
   "id": "245edcff-ac76-41ca-bb09-c0b0ce749ce0",
   "metadata": {},
   "source": [
    "Tabela de frequência"
   ]
  },
  {
   "cell_type": "code",
   "execution_count": 45,
   "id": "4011985f-f76d-4f9e-b659-b2f55a8fb731",
   "metadata": {},
   "outputs": [],
   "source": [
    "profissao = dclientes[\"profissao\"].value_counts().to_frame(\"freq_absoluta\")"
   ]
  },
  {
   "cell_type": "code",
   "execution_count": 46,
   "id": "3ed05937-4af0-4f92-a2bd-bb4ee15032dd",
   "metadata": {},
   "outputs": [],
   "source": [
    "profissao[\"freq_relativa\"] = dclientes[\"profissao\"].value_counts(1)"
   ]
  },
  {
   "cell_type": "code",
   "execution_count": 47,
   "id": "0d42a3ee-94e8-4593-ae31-9ba692951d78",
   "metadata": {},
   "outputs": [],
   "source": [
    "profissao[\"freq_acumulada\"]  = profissao[\"freq_relativa\"].cumsum()"
   ]
  },
  {
   "cell_type": "code",
   "execution_count": 48,
   "id": "df3de247-eced-4cec-bb4b-6536d711d3a7",
   "metadata": {},
   "outputs": [
    {
     "data": {
      "text/html": [
       "<div>\n",
       "<style scoped>\n",
       "    .dataframe tbody tr th:only-of-type {\n",
       "        vertical-align: middle;\n",
       "    }\n",
       "\n",
       "    .dataframe tbody tr th {\n",
       "        vertical-align: top;\n",
       "    }\n",
       "\n",
       "    .dataframe thead th {\n",
       "        text-align: right;\n",
       "    }\n",
       "</style>\n",
       "<table border=\"1\" class=\"dataframe\">\n",
       "  <thead>\n",
       "    <tr style=\"text-align: right;\">\n",
       "      <th></th>\n",
       "      <th>freq_absoluta</th>\n",
       "      <th>freq_relativa</th>\n",
       "      <th>freq_acumulada</th>\n",
       "    </tr>\n",
       "    <tr>\n",
       "      <th>profissao</th>\n",
       "      <th></th>\n",
       "      <th></th>\n",
       "      <th></th>\n",
       "    </tr>\n",
       "  </thead>\n",
       "  <tbody>\n",
       "    <tr>\n",
       "      <th>Professional</th>\n",
       "      <td>5520</td>\n",
       "      <td>0.298637</td>\n",
       "      <td>0.298637</td>\n",
       "    </tr>\n",
       "    <tr>\n",
       "      <th>Skilled Manual</th>\n",
       "      <td>4577</td>\n",
       "      <td>0.247620</td>\n",
       "      <td>0.546256</td>\n",
       "    </tr>\n",
       "    <tr>\n",
       "      <th>Management</th>\n",
       "      <td>3075</td>\n",
       "      <td>0.166360</td>\n",
       "      <td>0.712616</td>\n",
       "    </tr>\n",
       "    <tr>\n",
       "      <th>Clerical</th>\n",
       "      <td>2928</td>\n",
       "      <td>0.158407</td>\n",
       "      <td>0.871024</td>\n",
       "    </tr>\n",
       "    <tr>\n",
       "      <th>Manual</th>\n",
       "      <td>2384</td>\n",
       "      <td>0.128976</td>\n",
       "      <td>1.000000</td>\n",
       "    </tr>\n",
       "  </tbody>\n",
       "</table>\n",
       "</div>"
      ],
      "text/plain": [
       "                freq_absoluta  freq_relativa  freq_acumulada\n",
       "profissao                                                   \n",
       "Professional             5520       0.298637        0.298637\n",
       "Skilled Manual           4577       0.247620        0.546256\n",
       "Management               3075       0.166360        0.712616\n",
       "Clerical                 2928       0.158407        0.871024\n",
       "Manual                   2384       0.128976        1.000000"
      ]
     },
     "execution_count": 48,
     "metadata": {},
     "output_type": "execute_result"
    }
   ],
   "source": [
    "profissao"
   ]
  },
  {
   "cell_type": "markdown",
   "id": "2f357202-984c-485f-a7bd-2e086802014a",
   "metadata": {},
   "source": [
    "Visualização de dados"
   ]
  },
  {
   "cell_type": "code",
   "execution_count": 49,
   "id": "24c6e246-e764-4304-9a73-a405b172a6ce",
   "metadata": {},
   "outputs": [
    {
     "data": {
      "image/png": "[encoded data removed]",
      "text/plain": [
       "<Figure size 1500x500 with 1 Axes>"
      ]
     },
     "metadata": {},
     "output_type": "display_data"
    }
   ],
   "source": [
    "plt.figure(figsize=(15,5))\n",
    "\n",
    "sns.barplot(\n",
    "    profissao,\n",
    "    y=profissao.index,\n",
    "    x=\"freq_absoluta\",\n",
    "    orient=\"h\"\n",
    ")\n",
    "\n",
    "plt.title(\"Distribuição de clientes de acordo com profissão\", fontdict={\"weight\":\"bold\"})\n",
    "plt.ylabel(\"Profissão\",fontdict={\"weight\":\"bold\"})\n",
    "plt.xlabel(\"Qtd clientes\", fontdict={\"weight\":\"bold\"})\n",
    "\n",
    "for index, data in enumerate(profissao[\"freq_absoluta\"]):\n",
    "    plt.text(data, index, str(data), ha=\"left\", va=\"center\", size=8, weight=\"bold\")\n",
    "\n",
    "plt.show()"
   ]
  },
  {
   "cell_type": "markdown",
   "id": "adec4b4f-7cef-4475-b7d8-907ffb82e36d",
   "metadata": {},
   "source": [
    "## Variável: Faixa Etária"
   ]
  },
  {
   "cell_type": "markdown",
   "id": "2e4bc074-f4b5-4ec3-837b-9e08d49bc42a",
   "metadata": {},
   "source": [
    "Tabela de frequência"
   ]
  },
  {
   "cell_type": "code",
   "execution_count": 50,
   "id": "39b7f53f-b2a3-4d6f-8cb8-6999172d738a",
   "metadata": {},
   "outputs": [],
   "source": [
    "faixa_etaria = dclientes[\"faixa_etaria\"].value_counts().sort_index().to_frame(\"freq_absoluta\")"
   ]
  },
  {
   "cell_type": "code",
   "execution_count": 51,
   "id": "70ddd2e1-3fb6-415e-a998-df9751cc7446",
   "metadata": {},
   "outputs": [],
   "source": [
    "faixa_etaria[\"freq_relativa\"] = dclientes[\"faixa_etaria\"].value_counts(1).sort_index()"
   ]
  },
  {
   "cell_type": "code",
   "execution_count": 52,
   "id": "283e830c-29d6-43d0-a88d-a7ec2ca05377",
   "metadata": {},
   "outputs": [],
   "source": [
    "faixa_etaria[\"freq_acumulada\"] = faixa_etaria[\"freq_relativa\"].cumsum()"
   ]
  },
  {
   "cell_type": "code",
   "execution_count": 53,
   "id": "55c35c02-87fb-4e82-9a75-69961c405474",
   "metadata": {},
   "outputs": [
    {
     "data": {
      "text/html": [
       "<div>\n",
       "<style scoped>\n",
       "    .dataframe tbody tr th:only-of-type {\n",
       "        vertical-align: middle;\n",
       "    }\n",
       "\n",
       "    .dataframe tbody tr th {\n",
       "        vertical-align: top;\n",
       "    }\n",
       "\n",
       "    .dataframe thead th {\n",
       "        text-align: right;\n",
       "    }\n",
       "</style>\n",
       "<table border=\"1\" class=\"dataframe\">\n",
       "  <thead>\n",
       "    <tr style=\"text-align: right;\">\n",
       "      <th></th>\n",
       "      <th>freq_absoluta</th>\n",
       "      <th>freq_relativa</th>\n",
       "      <th>freq_acumulada</th>\n",
       "    </tr>\n",
       "    <tr>\n",
       "      <th>faixa_etaria</th>\n",
       "      <th></th>\n",
       "      <th></th>\n",
       "      <th></th>\n",
       "    </tr>\n",
       "  </thead>\n",
       "  <tbody>\n",
       "    <tr>\n",
       "      <th>43-47</th>\n",
       "      <td>1616</td>\n",
       "      <td>0.087427</td>\n",
       "      <td>0.087427</td>\n",
       "    </tr>\n",
       "    <tr>\n",
       "      <th>48-52</th>\n",
       "      <td>2623</td>\n",
       "      <td>0.141907</td>\n",
       "      <td>0.229333</td>\n",
       "    </tr>\n",
       "    <tr>\n",
       "      <th>53-57</th>\n",
       "      <td>3217</td>\n",
       "      <td>0.174042</td>\n",
       "      <td>0.403376</td>\n",
       "    </tr>\n",
       "    <tr>\n",
       "      <th>58-62</th>\n",
       "      <td>3123</td>\n",
       "      <td>0.168957</td>\n",
       "      <td>0.572333</td>\n",
       "    </tr>\n",
       "    <tr>\n",
       "      <th>63-67</th>\n",
       "      <td>2524</td>\n",
       "      <td>0.136551</td>\n",
       "      <td>0.708883</td>\n",
       "    </tr>\n",
       "    <tr>\n",
       "      <th>68-72</th>\n",
       "      <td>1977</td>\n",
       "      <td>0.106957</td>\n",
       "      <td>0.815841</td>\n",
       "    </tr>\n",
       "    <tr>\n",
       "      <th>73-77</th>\n",
       "      <td>1486</td>\n",
       "      <td>0.080394</td>\n",
       "      <td>0.896235</td>\n",
       "    </tr>\n",
       "    <tr>\n",
       "      <th>78-82</th>\n",
       "      <td>1011</td>\n",
       "      <td>0.054696</td>\n",
       "      <td>0.950931</td>\n",
       "    </tr>\n",
       "    <tr>\n",
       "      <th>83-87</th>\n",
       "      <td>573</td>\n",
       "      <td>0.031000</td>\n",
       "      <td>0.981930</td>\n",
       "    </tr>\n",
       "    <tr>\n",
       "      <th>88-92</th>\n",
       "      <td>244</td>\n",
       "      <td>0.013201</td>\n",
       "      <td>0.995131</td>\n",
       "    </tr>\n",
       "    <tr>\n",
       "      <th>93-97</th>\n",
       "      <td>51</td>\n",
       "      <td>0.002759</td>\n",
       "      <td>0.997890</td>\n",
       "    </tr>\n",
       "    <tr>\n",
       "      <th>98-102</th>\n",
       "      <td>18</td>\n",
       "      <td>0.000974</td>\n",
       "      <td>0.998864</td>\n",
       "    </tr>\n",
       "    <tr>\n",
       "      <th>103-107</th>\n",
       "      <td>11</td>\n",
       "      <td>0.000595</td>\n",
       "      <td>0.999459</td>\n",
       "    </tr>\n",
       "    <tr>\n",
       "      <th>108-112</th>\n",
       "      <td>9</td>\n",
       "      <td>0.000487</td>\n",
       "      <td>0.999946</td>\n",
       "    </tr>\n",
       "    <tr>\n",
       "      <th>113-117</th>\n",
       "      <td>1</td>\n",
       "      <td>0.000054</td>\n",
       "      <td>1.000000</td>\n",
       "    </tr>\n",
       "  </tbody>\n",
       "</table>\n",
       "</div>"
      ],
      "text/plain": [
       "              freq_absoluta  freq_relativa  freq_acumulada\n",
       "faixa_etaria                                              \n",
       "43-47                  1616       0.087427        0.087427\n",
       "48-52                  2623       0.141907        0.229333\n",
       "53-57                  3217       0.174042        0.403376\n",
       "58-62                  3123       0.168957        0.572333\n",
       "63-67                  2524       0.136551        0.708883\n",
       "68-72                  1977       0.106957        0.815841\n",
       "73-77                  1486       0.080394        0.896235\n",
       "78-82                  1011       0.054696        0.950931\n",
       "83-87                   573       0.031000        0.981930\n",
       "88-92                   244       0.013201        0.995131\n",
       "93-97                    51       0.002759        0.997890\n",
       "98-102                   18       0.000974        0.998864\n",
       "103-107                  11       0.000595        0.999459\n",
       "108-112                   9       0.000487        0.999946\n",
       "113-117                   1       0.000054        1.000000"
      ]
     },
     "execution_count": 53,
     "metadata": {},
     "output_type": "execute_result"
    }
   ],
   "source": [
    "faixa_etaria"
   ]
  },
  {
   "cell_type": "markdown",
   "id": "a2a80fd1-af1b-4d2c-af45-3e7d6f2ddf21",
   "metadata": {},
   "source": [
    "Visualização de dados"
   ]
  },
  {
   "cell_type": "code",
   "execution_count": 54,
   "id": "c89d0544-5f7c-438e-83d9-b32134038a2a",
   "metadata": {},
   "outputs": [
    {
     "data": {
      "image/png": "[encoded data removed]",
      "text/plain": [
       "<Figure size 1500x500 with 1 Axes>"
      ]
     },
     "metadata": {},
     "output_type": "display_data"
    }
   ],
   "source": [
    "plt.figure(figsize=(15,5))\n",
    "\n",
    "sns.barplot(\n",
    "    faixa_etaria,\n",
    "    x=faixa_etaria.index,\n",
    "    y=\"freq_absoluta\"\n",
    ")\n",
    "\n",
    "plt.title(\"Distribuição de clientes por faixa etária\", fontdict={\"weight\":\"bold\"})\n",
    "plt.xlabel(\"Faixa etária\", fontdict={\"weight\":\"bold\"})\n",
    "plt.ylabel(\"Qtd clientes\", fontdict={\"weight\":\"bold\"})\n",
    "\n",
    "for index, data in enumerate(faixa_etaria[\"freq_absoluta\"]):\n",
    "    plt.text(index, data+30, str(data), ha=\"center\", weight=\"bold\", size=9)\n",
    "\n",
    "plt.show()"
   ]
  },
  {
   "cell_type": "code",
   "execution_count": null,
   "id": "5eff7c07-b33d-411c-a45d-427582d13b74",
   "metadata": {},
   "outputs": [],
   "source": []
  }
 ],
 "metadata": {
  "kernelspec": {
   "display_name": "Python 3 (ipykernel)",
   "language": "python",
   "name": "python3"
  },
  "language_info": {
   "codemirror_mode": {
    "name": "ipython",
    "version": 3
   },
   "file_extension": ".py",
   "mimetype": "text/x-python",
   "name": "python",
   "nbconvert_exporter": "python",
   "pygments_lexer": "ipython3",
   "version": "3.12.1"
  }
 },
 "nbformat": 4,
 "nbformat_minor": 5
}
